{
 "cells": [
  {
   "cell_type": "markdown",
   "metadata": {},
   "source": [
    "**Задача 1**\n",
    "\n",
    "Это простая задача на знание ифов."
   ]
  },
  {
   "cell_type": "code",
   "execution_count": null,
   "metadata": {},
   "outputs": [],
   "source": [
    "n = int(input())\n",
    "iterac = int(input())\n",
    "check = int(input())\n",
    "if iterac == 0:\n",
    "    if n != 0:\n",
    "        print(3)\n",
    "    else:\n",
    "        print(check)\n",
    "elif iterac == 1:\n",
    "    print(check)\n",
    "elif iterac == 4:\n",
    "    if n != 0:\n",
    "        print(3)\n",
    "    else:\n",
    "        print(4)\n",
    "elif iterac == 6:\n",
    "    print(0)\n",
    "elif iterac == 7:\n",
    "    print(1)\n",
    "else:\n",
    "    print(iterac)"
   ]
  },
  {
   "cell_type": "markdown",
   "metadata": {},
   "source": [
    "**Задача 2**\n",
    "\n",
    "Возможно не самое оптимальное, но наиболее понятное решение. Сохраним все команды, а потом будем симулирвать работу очереди и стека."
   ]
  },
  {
   "cell_type": "code",
   "execution_count": null,
   "metadata": {},
   "outputs": [],
   "source": [
    "n = int(input())\n",
    "q = True\n",
    "s = True\n",
    "c = []\n",
    "arr = []\n",
    "for i in range(n):\n",
    "    c.append(input().split())\n",
    "for i in c:\n",
    "    if i[0] == 'push':\n",
    "        arr.append(i[1])\n",
    "    else:\n",
    "        if i[1] == arr[-1]:\n",
    "            arr.pop()\n",
    "        else:\n",
    "            s = False\n",
    "            break\n",
    "arr = []\n",
    "for i in c:\n",
    "    if i[0] == 'push':\n",
    "        arr.append(i[1])\n",
    "    else:\n",
    "        if i[1] == arr[0]:\n",
    "            arr.pop(0)\n",
    "        else:\n",
    "            q = False\n",
    "            break\n",
    "if s and q:\n",
    "    print('both')\n",
    "elif s:\n",
    "    print('stack')\n",
    "elif q:\n",
    "    print('queue')\n",
    "else:\n",
    "    print('none')\n"
   ]
  },
  {
   "cell_type": "markdown",
   "metadata": {},
   "source": [
    "**Задача 3**\n",
    "\n",
    "Здесь будем поддерживать значение наименьщего квадрата и куба на текущем шаге."
   ]
  },
  {
   "cell_type": "code",
   "execution_count": null,
   "metadata": {},
   "outputs": [],
   "source": [
    "n = int(input())\n",
    "\n",
    "a, b = 1, 1\n",
    "\n",
    "for i in range(1, n):\n",
    "    if a ** 2 == b ** 3:\n",
    "        a += 1\n",
    "        b += 1\n",
    "    elif a ** 2 < b ** 3:\n",
    "        a += 1\n",
    "    else:\n",
    "        b += 1\n",
    "\n",
    "print(min(a ** 2, b ** 3))"
   ]
  },
  {
   "cell_type": "markdown",
   "metadata": {},
   "source": [
    "**Задача 4**\n",
    "\n",
    "Понятно, что в одной команде должны быть люди, которые будут стоять рядом, если всех поставить по росту. Поэтому отсортируем список людей, а потом бинпоиском подберём минимальное такое число неудобства, что терубуемая команда будет найдена."
   ]
  },
  {
   "cell_type": "code",
   "execution_count": null,
   "metadata": {},
   "outputs": [],
   "source": [
    "heights = [int(input()) for _ in range(n)]\n",
    "heights.sort()\n",
    "\n",
    "def test(delta):\n",
    "    teams_counter = 0\n",
    "    t = team_size-1\n",
    "    while t < n:\n",
    "        if heights[t]-heights[t-team_size+1] <= delta:\n",
    "            teams_counter += 1\n",
    "            t += team_size\n",
    "        else:\n",
    "            t += 1\n",
    "    return teams_counter >= num_of_teams\n",
    "\n",
    "\n",
    "left = -1\n",
    "right = 10**9\n",
    "\n",
    "while right - left > 1:\n",
    "    mid = (left + right)//2\n",
    "    if test(mid):\n",
    "        right = mid\n",
    "    else:\n",
    "        left = mid\n",
    "\n",
    "\n",
    "print(right)"
   ]
  },
  {
   "cell_type": "markdown",
   "metadata": {},
   "source": [
    "**Задача 5**\n",
    "\n",
    "Положим в словарь для каждой первой буквы список из вторых букв в паре, для которых пара будет красивой. Теперь пройдёмся по ряду и посчитаем красивые пары с помощью словаря."
   ]
  },
  {
   "cell_type": "code",
   "execution_count": null,
   "metadata": {},
   "outputs": [],
   "source": [
    "n, k = map(int, input().split())\n",
    "s = list(input().strip())\n",
    "good = dict()\n",
    "for i in range(k):\n",
    "    a, b = list(input())\n",
    "    good[b] = good.get(b, list())\n",
    "    good[b].append(a)\n",
    "answer = 0\n",
    "now = [0] * 26\n",
    "for i in range(n):\n",
    "    if s[i] in good:\n",
    "        for x in good[s[i]]:\n",
    "            answer += now[ord(x) - 97]\n",
    "    now[ord(s[i]) - 97] += 1\n",
    "print(answer)"
   ]
  }
 ],
 "metadata": {
  "kernelspec": {
   "display_name": "Python 3",
   "language": "python",
   "name": "python3"
  },
  "language_info": {
   "codemirror_mode": {
    "name": "ipython",
    "version": 3
   },
   "file_extension": ".py",
   "mimetype": "text/x-python",
   "name": "python",
   "nbconvert_exporter": "python",
   "pygments_lexer": "ipython3",
   "version": "3.8.2"
  },
  "varInspector": {
   "cols": {
    "lenName": 16,
    "lenType": 16,
    "lenVar": 40
   },
   "kernels_config": {
    "python": {
     "delete_cmd_postfix": "",
     "delete_cmd_prefix": "del ",
     "library": "var_list.py",
     "varRefreshCmd": "print(var_dic_list())"
    },
    "r": {
     "delete_cmd_postfix": ") ",
     "delete_cmd_prefix": "rm(",
     "library": "var_list.r",
     "varRefreshCmd": "cat(var_dic_list()) "
    }
   },
   "types_to_exclude": [
    "module",
    "function",
    "builtin_function_or_method",
    "instance",
    "_Feature"
   ],
   "window_display": false
  }
 },
 "nbformat": 4,
 "nbformat_minor": 4
}
